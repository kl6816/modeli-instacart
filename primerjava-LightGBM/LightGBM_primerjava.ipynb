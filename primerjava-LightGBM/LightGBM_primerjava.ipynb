{
 "cells": [
  {
   "cell_type": "code",
   "execution_count": 1,
   "metadata": {},
   "outputs": [],
   "source": [
    "import warnings\n",
    "warnings.filterwarnings(\"ignore\")\n",
    "\n",
    "import numpy as np\n",
    "import pandas as pd\n",
    "import lightgbm as lgb\n",
    "import matplotlib.pyplot as plt"
   ]
  },
  {
   "cell_type": "code",
   "execution_count": 2,
   "metadata": {},
   "outputs": [
    {
     "name": "stdout",
     "output_type": "stream",
     "text": [
      "loading orders...\n",
      "loading products...\n",
      "loading prior...\n",
      "loading train...\n",
      "done\n"
     ]
    }
   ],
   "source": [
    "print(\"loading orders...\")\n",
    "orders = pd.read_csv(\"../data/orders.csv\", dtype={\n",
    "        'order_id': np.int32,\n",
    "        'user_id': np.int32,\n",
    "        'eval_set': 'category',\n",
    "        'order_number': np.int16,\n",
    "        'order_dow': np.int8,\n",
    "        'order_hour_of_day': np.int8,\n",
    "        'days_since_prior_order': np.float32})\n",
    "\n",
    "print(\"loading products...\")\n",
    "products = pd.read_csv(\"../data/products.csv\", dtype={\n",
    "        'product_id': np.uint16,\n",
    "        'order_id': np.int32,\n",
    "        'aisle_id': np.uint8,\n",
    "        'department_id': np.uint8},\n",
    "        usecols=['product_id', 'aisle_id', 'department_id'])\n",
    "\n",
    "print(\"loading prior...\")\n",
    "prior = pd.read_csv(\"../data/order_products__prior.csv\", dtype={\n",
    "            'order_id': np.int32,\n",
    "            'product_id': np.uint16,\n",
    "            'add_to_cart_order': np.int16,\n",
    "            'reordered': np.int8})\n",
    "\n",
    "print(\"loading train...\")\n",
    "train = pd.read_csv(\"../data/order_products__train.csv\", dtype={\n",
    "            'order_id': np.int32,\n",
    "            'product_id': np.uint16,\n",
    "            'add_to_cart_order': np.int16,\n",
    "            'reordered': np.int8})\n",
    "print(\"done\")"
   ]
  },
  {
   "cell_type": "code",
   "execution_count": 7,
   "metadata": {},
   "outputs": [
    {
     "name": "stdout",
     "output_type": "stream",
     "text": [
      "calculating product features...\n",
      "done\n"
     ]
    }
   ],
   "source": [
    "### product features ###\n",
    "print(\"calculating product features...\")\n",
    "prodf = pd.DataFrame()\n",
    "prodf['orders'] = prior.groupby(prior.product_id).size().astype(np.int32) #number of orders\n",
    "prodf['reorders'] = prior['reordered'].groupby(prior.product_id).sum().astype(np.float32) #number of reorders\n",
    "prodf['reorder_rate'] = (prodf.reorders / prodf.orders).astype(np.float32) # ratio of reorders\n",
    "products = products.join(prodf, on='product_id')\n",
    "products.set_index('product_id', drop=False, inplace=True)\n",
    "del prodf\n",
    "\n",
    "print(\"done\")"
   ]
  },
  {
   "cell_type": "code",
   "execution_count": 9,
   "metadata": {},
   "outputs": [],
   "source": [
    "most_bought_products = products[products['orders'] > 1200]"
   ]
  },
  {
   "cell_type": "code",
   "execution_count": 11,
   "metadata": {},
   "outputs": [
    {
     "name": "stdout",
     "output_type": "stream",
     "text": [
      "add order info to prior - merge\n",
      "done\n"
     ]
    }
   ],
   "source": [
    "print('add order info to prior - merge')\n",
    "orders.set_index('order_id', inplace=True, drop=False)\n",
    "prior = prior.join(orders, on='order_id', rsuffix='_')\n",
    "prior.drop('order_id_', inplace=True, axis=1)\n",
    "print(\"done\")"
   ]
  },
  {
   "cell_type": "code",
   "execution_count": 13,
   "metadata": {},
   "outputs": [
    {
     "name": "stdout",
     "output_type": "stream",
     "text": [
      "calculating user features...\n",
      "user f (206209, 6)\n",
      "done\n"
     ]
    }
   ],
   "source": [
    "### user features ###\n",
    "print(\"calculating user features...\")\n",
    "usr = pd.DataFrame()\n",
    "usr['average_days_between_orders'] = orders.groupby('user_id')['days_since_prior_order'].mean().astype(np.float32) #avg days between orders\n",
    "usr['nb_orders'] = orders.groupby('user_id').size().astype(np.int16) #number of orders\n",
    "\n",
    "users = pd.DataFrame()\n",
    "users['total_items'] = prior.groupby('user_id').size().astype(np.int16) #number of items bought\n",
    "users['all_products'] = prior.groupby('user_id')['product_id'].apply(set) #set of products(id) bought !!!\n",
    "users['total_distinct_items'] = (users.all_products.map(len)).astype(np.int16) #number of distinct items bought\n",
    "\n",
    "users = users.join(usr)\n",
    "del usr\n",
    "users['average_basket'] = (users.total_items / users.nb_orders).astype(np.float32) #avg number of items in order\n",
    "print('user f', users.shape)\n",
    "print(\"done\")"
   ]
  },
  {
   "cell_type": "code",
   "execution_count": 15,
   "metadata": {},
   "outputs": [
    {
     "name": "stdout",
     "output_type": "stream",
     "text": [
      "calculating userXproduct features... slow...\n",
      "to dataframe (less memory)\n",
      "user X product f 13293564\n",
      "done\n"
     ]
    }
   ],
   "source": [
    "### userXproduct features ###\n",
    "\n",
    "print('calculating userXproduct features... slow...')\n",
    "prior['user_product'] = prior.product_id + prior.user_id * 100000 ##user_product id  ???\n",
    "prior['user_max_order_num'] = prior.groupby('user_id')['order_number'].transform('max')\n",
    "\n",
    "d= dict()\n",
    "for row in prior.itertuples():\n",
    "    z = row.user_product\n",
    "    if z not in d:\n",
    "        d[z] = (1,\n",
    "                (row.order_number, row.order_id),\n",
    "                row.add_to_cart_order, 1 if row.order_number > row.user_max_order_num-5 else 0)\n",
    "    else:\n",
    "        d[z] = (d[z][0] + 1,\n",
    "                max(d[z][1], (row.order_number, row.order_id)),\n",
    "                d[z][2] + row.add_to_cart_order, d[z][3]+1 if row.order_number > row.user_max_order_num-5 else d[z][3])\n",
    "\n",
    "print('to dataframe (less memory)')\n",
    "userXproduct = pd.DataFrame.from_dict(d, orient='index')\n",
    "del d\n",
    "userXproduct.columns = ['nb_orders', 'last_order_id', 'sum_pos_in_cart', 'total_buys_n5']\n",
    "userXproduct.nb_orders = userXproduct.nb_orders.astype(np.int16)\n",
    "userXproduct.last_order_id = userXproduct.last_order_id.map(lambda x: x[1]).astype(np.int32)\n",
    "userXproduct.sum_pos_in_cart = userXproduct.sum_pos_in_cart.astype(np.int16)\n",
    "userXproduct.total_buys_n5 = userXproduct.total_buys_n5.astype(np.int16)\n",
    "print('user X product f', len(userXproduct))\n",
    "\n",
    "del prior\n",
    "print(\"done\")"
   ]
  },
  {
   "cell_type": "code",
   "execution_count": 17,
   "metadata": {},
   "outputs": [
    {
     "name": "stdout",
     "output_type": "stream",
     "text": [
      "split orders : train, test\n",
      "add product info to test_for_f1 - merge\n",
      "done\n"
     ]
    }
   ],
   "source": [
    "### train / test orders ###\n",
    "print('split orders : train, test')\n",
    "test_orders_v1 = orders[orders.eval_set == 'test'] \n",
    "train_orders_v1 = orders[orders.eval_set == 'train']\n",
    "\n",
    "#moj dodatek za razdelitev train na se ene mnozice\n",
    "user_list = train_orders_v1['user_id'].unique() # razdelitev 90% : 10%\n",
    "msk = np.random.rand(len(user_list)) < 0.9\n",
    "users_train = user_list[msk]\n",
    "users_test = user_list[~msk]\n",
    "\n",
    "test_orders = train_orders_v1.loc[train_orders_v1['user_id'].isin(users_test)] #filtrira na test\n",
    "train_orders = train_orders_v1.loc[train_orders_v1['user_id'].isin(users_train)] #filtrira na train\n",
    "\n",
    "#label za f1 score\n",
    "test_for_f1 = test_orders\n",
    "print('add product info to test_for_f1 - merge')\n",
    "train.set_index('order_id', inplace=True, drop=False)\n",
    "train.index.names = ['order_id_index']\n",
    "test_for_f1.index.names = ['order_id_index']\n",
    "test_for_f1 = test_for_f1.join(train, on='order_id', rsuffix='_')\n",
    "test_for_f1.drop('order_id_', inplace=True, axis=1)\n",
    "test_for_f1 = test_for_f1.groupby('order_id').agg({'product_id':lambda x: list(x)})\n",
    "\n",
    "train.set_index(['order_id', 'product_id'], inplace=True, drop=False)\n",
    "print(\"done\")"
   ]
  },
  {
   "cell_type": "code",
   "execution_count": 25,
   "metadata": {
    "scrolled": true
   },
   "outputs": [
    {
     "name": "stdout",
     "output_type": "stream",
     "text": [
      "build candidate list\n",
      "order row 10000\n",
      "order row 20000\n",
      "order row 30000\n",
      "order row 40000\n",
      "order row 50000\n",
      "order row 60000\n",
      "order row 70000\n",
      "order row 80000\n",
      "order row 90000\n",
      "order row 100000\n",
      "order row 110000\n",
      "user related features\n",
      "order related features\n",
      "product related features\n",
      "formating for lgb\n",
      "light GBM train :-)\n",
      "done\n"
     ]
    },
    {
     "data": {
      "image/png": "[encoded data removed]",
      "text/plain": [
       "<Figure size 648x1440 with 1 Axes>"
      ]
     },
     "metadata": {
      "needs_background": "light"
     },
     "output_type": "display_data"
    }
   ],
   "source": [
    "### build list of candidate products to reorder, with features ###\n",
    "def features(selected_orders, labels_given=False):\n",
    "    print('build candidate list')\n",
    "    order_list = []\n",
    "    product_list = []\n",
    "    labels = []\n",
    "    train_index = set(train.index)\n",
    "    \n",
    "    i = 0 \n",
    "    for row in selected_orders.itertuples():\n",
    "        i+=1\n",
    "        if i%10000 == 0: print('order row', i)\n",
    "        user_id = row.user_id\n",
    "        order_id = row.order_id\n",
    "\n",
    "        user_prods = users['all_products'][user_id] if labels_given else set(most_bought_products['product_id'][~most_bought_products['product_id'].isin(users['all_products'][user_id])])\n",
    "        product_list += user_prods\n",
    "        order_list += [order_id] * len(user_prods)\n",
    "        \n",
    "        if labels_given:\n",
    "            labels += [(order_id, prod) in train_index for prod in user_prods]\n",
    "        \n",
    "    df = pd.DataFrame({'order_id':order_list, 'product_id':product_list}, dtype=np.int32)\n",
    "    labels = np.array(labels, dtype=np.int8)\n",
    "    del order_list\n",
    "    del product_list\n",
    "    \n",
    "    print('user related features')\n",
    "    df['user_id'] = df.order_id.map(orders.user_id)\n",
    "    df['user_total_orders'] = df.user_id.map(users.nb_orders)\n",
    "    df['user_total_items'] = df.user_id.map(users.total_items)\n",
    "    df['total_distinct_items'] = df.user_id.map(users.total_distinct_items)\n",
    "    df['user_average_days_between_orders'] = df.user_id.map(users.average_days_between_orders)\n",
    "    df['user_average_basket'] =  df.user_id.map(users.average_basket)\n",
    "    \n",
    "    print('order related features')\n",
    "    df['order_hour_of_day'] = df.order_id.map(orders.order_hour_of_day)\n",
    "    df['days_since_prior_order'] = df.order_id.map(orders.days_since_prior_order)\n",
    "    df['days_since_ratio'] = df.days_since_prior_order / df.user_average_days_between_orders\n",
    "    \n",
    "    print('product related features')\n",
    "    df['aisle_id'] = df.product_id.map(products.aisle_id)\n",
    "    df['department_id'] = df.product_id.map(products.department_id)\n",
    "    \n",
    "    df['product_orders'] = df.product_id.map(products.orders).astype(np.int32)\n",
    "    df['product_reorders'] = df.product_id.map(products.reorders)\n",
    "    df['product_reorder_rate'] = df.product_id.map(products.reorder_rate)\n",
    "    \n",
    "    return (df, labels)\n",
    "    \n",
    "\n",
    "df_train, labels = features(train_orders, labels_given=True)\n",
    "\n",
    "f_to_use = ['user_total_orders', 'user_total_items', 'total_distinct_items',\n",
    "       'user_average_days_between_orders', 'user_average_basket',\n",
    "       'order_hour_of_day', 'days_since_prior_order', 'days_since_ratio',\n",
    "         'department_id', 'product_orders', 'product_reorders',\n",
    "       'product_reorder_rate']\n",
    "\n",
    "\n",
    "print('formating for lgb')\n",
    "d_train = lgb.Dataset(df_train[f_to_use],\n",
    "                      label=labels,\n",
    "                      categorical_feature=['department_id'])\n",
    "del df_train\n",
    "\n",
    "params = {\n",
    "    'task': 'train',\n",
    "    'boosting_type': 'gbdt', \n",
    "    'objective': 'binary',\n",
    "    'metric': {'binary_logloss'},\n",
    "    'num_leaves': 64,\n",
    "    'max_depth': 10,\n",
    "    'feature_fraction': 0.7,\n",
    "    'bagging_fraction': 0.9,\n",
    "    'bagging_freq': 5,\n",
    "}\n",
    "ROUNDS = 100\n",
    "\n",
    "print('light GBM train :-)')\n",
    "bst = lgb.train(params, d_train, ROUNDS)\n",
    "lgb.plot_importance(bst, figsize=(9,20)) #importance plot\n",
    "del d_train\n",
    "print(\"done\")"
   ]
  },
  {
   "cell_type": "code",
   "execution_count": 26,
   "metadata": {
    "scrolled": true
   },
   "outputs": [
    {
     "name": "stdout",
     "output_type": "stream",
     "text": [
      "build candidate list\n",
      "order row 10000\n",
      "user related features\n",
      "order related features\n",
      "product related features\n",
      "light GBM predict\n",
      "done\n"
     ]
    }
   ],
   "source": [
    "### build candidates list for test ###\n",
    "\n",
    "df_test, _ = features(test_orders)\n",
    "\n",
    "print('light GBM predict')\n",
    "preds = bst.predict(df_test[f_to_use])\n",
    "\n",
    "df_test['pred'] = preds\n",
    "df_test = df_test.groupby('order_id').apply(lambda x: x.sort_values(by='pred', ascending=False)).reset_index(drop=True)\n",
    "\n",
    "products_to_process = pd.DataFrame()\n",
    "for user_id, df in df_test.groupby('user_id'):\n",
    "    user_basket_size = int(np.ceil(users.loc[user_id]['average_basket']))\n",
    "    products_to_process = products_to_process.append(df.head(user_basket_size), ignore_index=True)\n",
    "df_test = products_to_process\n",
    "del products_to_process\n",
    "\n",
    "\n",
    "d = dict()\n",
    "for row in df_test.itertuples():\n",
    "    try:\n",
    "        d[row.order_id] += ' ' + str(row.product_id)\n",
    "    except:\n",
    "        d[row.order_id] = str(row.product_id)\n",
    "\n",
    "for order in test_orders.order_id:\n",
    "    if order not in d:\n",
    "        d[order] = 'None'\n",
    "\n",
    "        \n",
    "\n",
    "sub = pd.DataFrame.from_dict(d, orient='index')\n",
    "\n",
    "sub.reset_index(inplace=True)\n",
    "sub.columns = ['order_id', 'products']\n",
    "sub.to_csv('my_sub_for_test.csv', index=False)\n",
    "print(\"done\")"
   ]
  },
  {
   "cell_type": "code",
   "execution_count": 27,
   "metadata": {},
   "outputs": [
    {
     "name": "stdout",
     "output_type": "stream",
     "text": [
      "done\n"
     ]
    }
   ],
   "source": [
    "\n",
    "### TESTING V2 ####\n",
    "\n",
    "def eval_fun(labels, preds):\n",
    "    labels = labels\n",
    "    preds = preds.split(' ')\n",
    "    rr = (np.intersect1d(labels, preds))\n",
    "    precision = np.float(len(rr)) / len(preds)\n",
    "    recall = np.float(len(rr)) / len(labels)\n",
    "    try:\n",
    "        f1 = 2 * precision * recall / (precision + recall)\n",
    "    except ZeroDivisionError:\n",
    "        return (precision, recall, 0.0)\n",
    "    return (precision, recall, f1)\n",
    "\n",
    "\n",
    "###########\n",
    "cv_preds_df = pd.read_csv('my_sub_for_test.csv')\n",
    "cv_preds_df['products'] = cv_preds_df['products'].astype(str)\n",
    "test_for_f1 = pd.merge(test_for_f1, cv_preds_df, how='left', on='order_id')\n",
    "print(\"done\")"
   ]
  },
  {
   "cell_type": "code",
   "execution_count": 30,
   "metadata": {},
   "outputs": [
    {
     "data": {
      "text/html": [
       "<div>\n",
       "<style scoped>\n",
       "    .dataframe tbody tr th:only-of-type {\n",
       "        vertical-align: middle;\n",
       "    }\n",
       "\n",
       "    .dataframe tbody tr th {\n",
       "        vertical-align: top;\n",
       "    }\n",
       "\n",
       "    .dataframe thead th {\n",
       "        text-align: right;\n",
       "    }\n",
       "</style>\n",
       "<table border=\"1\" class=\"dataframe\">\n",
       "  <thead>\n",
       "    <tr style=\"text-align: right;\">\n",
       "      <th></th>\n",
       "      <th>precision</th>\n",
       "      <th>recall</th>\n",
       "      <th>f1_score</th>\n",
       "    </tr>\n",
       "  </thead>\n",
       "  <tbody>\n",
       "    <tr>\n",
       "      <th>count</th>\n",
       "      <td>13181.000000</td>\n",
       "      <td>13181.000000</td>\n",
       "      <td>13181.000000</td>\n",
       "    </tr>\n",
       "    <tr>\n",
       "      <th>mean</th>\n",
       "      <td>0.003412</td>\n",
       "      <td>0.002897</td>\n",
       "      <td>0.002879</td>\n",
       "    </tr>\n",
       "    <tr>\n",
       "      <th>std</th>\n",
       "      <td>0.021041</td>\n",
       "      <td>0.022423</td>\n",
       "      <td>0.018097</td>\n",
       "    </tr>\n",
       "    <tr>\n",
       "      <th>min</th>\n",
       "      <td>0.000000</td>\n",
       "      <td>0.000000</td>\n",
       "      <td>0.000000</td>\n",
       "    </tr>\n",
       "    <tr>\n",
       "      <th>25%</th>\n",
       "      <td>0.000000</td>\n",
       "      <td>0.000000</td>\n",
       "      <td>0.000000</td>\n",
       "    </tr>\n",
       "    <tr>\n",
       "      <th>50%</th>\n",
       "      <td>0.000000</td>\n",
       "      <td>0.000000</td>\n",
       "      <td>0.000000</td>\n",
       "    </tr>\n",
       "    <tr>\n",
       "      <th>75%</th>\n",
       "      <td>0.000000</td>\n",
       "      <td>0.000000</td>\n",
       "      <td>0.000000</td>\n",
       "    </tr>\n",
       "    <tr>\n",
       "      <th>max</th>\n",
       "      <td>0.333333</td>\n",
       "      <td>1.000000</td>\n",
       "      <td>0.400000</td>\n",
       "    </tr>\n",
       "  </tbody>\n",
       "</table>\n",
       "</div>"
      ],
      "text/plain": [
       "          precision        recall      f1_score\n",
       "count  13181.000000  13181.000000  13181.000000\n",
       "mean       0.003412      0.002897      0.002879\n",
       "std        0.021041      0.022423      0.018097\n",
       "min        0.000000      0.000000      0.000000\n",
       "25%        0.000000      0.000000      0.000000\n",
       "50%        0.000000      0.000000      0.000000\n",
       "75%        0.000000      0.000000      0.000000\n",
       "max        0.333333      1.000000      0.400000"
      ]
     },
     "execution_count": 30,
     "metadata": {},
     "output_type": "execute_result"
    }
   ],
   "source": [
    "## testing v2\n",
    "res = list()\n",
    "for entry in test_for_f1.itertuples():\n",
    "    res.append(eval_fun(entry[2], entry[3]))\n",
    "\n",
    "res = pd.DataFrame(np.array(res), columns=['precision', 'recall', 'f1_score'])\n",
    "res.describe()"
   ]
  }
 ],
 "metadata": {
  "kernelspec": {
   "display_name": "Python 3",
   "language": "python",
   "name": "python3"
  },
  "language_info": {
   "codemirror_mode": {
    "name": "ipython",
    "version": 3
   },
   "file_extension": ".py",
   "mimetype": "text/x-python",
   "name": "python",
   "nbconvert_exporter": "python",
   "pygments_lexer": "ipython3",
   "version": "3.7.4"
  }
 },
 "nbformat": 4,
 "nbformat_minor": 2
}
